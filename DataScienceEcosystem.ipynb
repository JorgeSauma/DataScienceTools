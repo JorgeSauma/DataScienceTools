{
 "cells": [
  {
   "cell_type": "markdown",
   "id": "774b55c0-fc8d-42fd-8a8a-973b8acea7c5",
   "metadata": {},
   "source": [
    "# Data Science Tools and Ecosystem"
   ]
  },
  {
   "cell_type": "markdown",
   "id": "8977992f-6620-41b9-a8ee-379933e1f8f3",
   "metadata": {
    "tags": []
   },
   "source": [
    "This notebook shows a summary of the Data Science Tools and Ecosystem"
   ]
  },
  {
   "cell_type": "markdown",
   "id": "cc897fdd-9319-4d76-9b54-72d87ff1f260",
   "metadata": {},
   "source": [
    "## Data Science Languages"
   ]
  },
  {
   "cell_type": "markdown",
   "id": "f5386894-685e-4a3f-acaf-adacfac7f2a2",
   "metadata": {},
   "source": [
    "Some of the most popular languages used in Data Science are:"
   ]
  },
  {
   "cell_type": "markdown",
   "id": "a2b657d9-6b37-422f-9f3e-bd0ad80fcbfb",
   "metadata": {},
   "source": [
    "1. Phython\n",
    "1. R\n",
    "1. Julia\n",
    "1. SQL\n",
    "1. Java"
   ]
  },
  {
   "cell_type": "markdown",
   "id": "973c29f0-e4b0-433f-ab0c-9d9031b61da6",
   "metadata": {},
   "source": [
    "## Data Science Libraries"
   ]
  },
  {
   "cell_type": "markdown",
   "id": "5eb04e95-72ca-4292-afcd-d3dab2cccfc6",
   "metadata": {},
   "source": [
    "Some of the popular libraries that Data Scientists use are:"
   ]
  },
  {
   "cell_type": "markdown",
   "id": "b89aba67-c47e-4364-9519-f4bbe24f1523",
   "metadata": {},
   "source": [
    "1. Pandas\n",
    "1. NumPy\n",
    "1. Scikit-learn\n",
    "1. SciPy\n",
    "1. PyTorch"
   ]
  },
  {
   "cell_type": "markdown",
   "id": "b16081b4-8fd2-42ad-ac6e-02c6f598584f",
   "metadata": {},
   "source": [
    "## Data Science Tools"
   ]
  },
  {
   "cell_type": "markdown",
   "id": "7e4b90e6-f126-48ec-9560-02c8571fa3de",
   "metadata": {},
   "source": [
    "| Data Science Tools |\n",
    "|--------------------|\n",
    "| RStudio |\n",
    "| Jupyter Notebooks |\n",
    "| Visual Studio Code |"
   ]
  },
  {
   "cell_type": "markdown",
   "id": "a35ee608-959d-4ae4-92b5-9695848acae6",
   "metadata": {},
   "source": [
    "## Arithmetic Expression Samples"
   ]
  },
  {
   "cell_type": "markdown",
   "id": "73409da7-6240-4020-ade9-82482a2a501e",
   "metadata": {},
   "source": [
    "### Below are a few examples of evaluating arithmetic expressions in Python"
   ]
  },
  {
   "cell_type": "markdown",
   "id": "25cb9a99-0949-4881-8012-eff02cb17a8c",
   "metadata": {},
   "source": [
    "*This a simple arithmetic expression to mutiply then add integers*"
   ]
  },
  {
   "cell_type": "code",
   "execution_count": 5,
   "id": "8eb99663-6ff0-46c4-aabf-0480dcd0cbfb",
   "metadata": {
    "tags": []
   },
   "outputs": [
    {
     "data": {
      "text/plain": [
       "17"
      ]
     },
     "execution_count": 5,
     "metadata": {},
     "output_type": "execute_result"
    }
   ],
   "source": [
    "(3*4)+5"
   ]
  },
  {
   "cell_type": "markdown",
   "id": "36ba1db2-ab79-4f3b-ac04-c49be9d1d343",
   "metadata": {},
   "source": [
    "*This will convert 200 minutes to hours by diving by 60*"
   ]
  },
  {
   "cell_type": "code",
   "execution_count": 4,
   "id": "f6659c47-e75e-4a92-93a2-e29c1a7ff095",
   "metadata": {
    "tags": []
   },
   "outputs": [
    {
     "data": {
      "text/plain": [
       "3.3333333333333335"
      ]
     },
     "execution_count": 4,
     "metadata": {},
     "output_type": "execute_result"
    }
   ],
   "source": [
    "(200/60)"
   ]
  },
  {
   "cell_type": "markdown",
   "id": "9c837415-6eae-4ee8-be53-c9d6eac73fb3",
   "metadata": {},
   "source": [
    "**Objectives:**\n",
    "- List the most popular languages used in Data Science\n",
    "- List the most popular libraries used in Data Science\n",
    "- List Data Science tools\n",
    "- Show some arithmetic expressions used in Python that can be executed in a Jupyter notebook"
   ]
  },
  {
   "cell_type": "markdown",
   "id": "bda39dc3-2b66-4959-8ede-2c4ffb7577e1",
   "metadata": {},
   "source": [
    "## Author\n",
    "Jorge Sauma"
   ]
  },
  {
   "cell_type": "code",
   "execution_count": null,
   "id": "635b32f3-6684-40b4-b8f6-a84f1b6a5959",
   "metadata": {},
   "outputs": [],
   "source": []
  }
 ],
 "metadata": {
  "kernelspec": {
   "display_name": "Python",
   "language": "python",
   "name": "conda-env-python-py"
  },
  "language_info": {
   "codemirror_mode": {
    "name": "ipython",
    "version": 3
   },
   "file_extension": ".py",
   "mimetype": "text/x-python",
   "name": "python",
   "nbconvert_exporter": "python",
   "pygments_lexer": "ipython3",
   "version": "3.7.12"
  }
 },
 "nbformat": 4,
 "nbformat_minor": 5
}
